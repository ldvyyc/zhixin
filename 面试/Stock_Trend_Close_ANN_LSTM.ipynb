{
  "cells": [
    {
      "cell_type": "markdown",
      "metadata": {
        "id": "0xw1ObcF_R3R"
      },
      "source": [
        "# ANN - LSTM :  \n",
        "   to get the **closure price** of stock trending day.  \n",
        "   - data used : "
      ]
    },
    {
      "cell_type": "code",
      "execution_count": 1,
      "metadata": {
        "colab": {
          "base_uri": "https://localhost:8080/"
        },
        "id": "jwX5R4CJCDFC",
        "outputId": "b0a4699b-8c38-448b-d80d-6386187c3547"
      },
      "outputs": [
        {
          "name": "stdout",
          "output_type": "stream",
          "text": [
            "Collecting yfinance\n",
            "  Downloading yfinance-0.2.37-py2.py3-none-any.whl.metadata (11 kB)\n",
            "Requirement already satisfied: pandas>=1.3.0 in /Users/ldvyyc/miniconda3/envs/tensorflow/lib/python3.9/site-packages (from yfinance) (2.2.1)\n",
            "Requirement already satisfied: numpy>=1.16.5 in /Users/ldvyyc/miniconda3/envs/tensorflow/lib/python3.9/site-packages (from yfinance) (1.26.4)\n",
            "Requirement already satisfied: requests>=2.31 in /Users/ldvyyc/miniconda3/envs/tensorflow/lib/python3.9/site-packages (from yfinance) (2.31.0)\n",
            "Collecting multitasking>=0.0.7 (from yfinance)\n",
            "  Downloading multitasking-0.0.11-py3-none-any.whl.metadata (5.5 kB)\n",
            "Collecting lxml>=4.9.1 (from yfinance)\n",
            "  Downloading lxml-5.1.0-cp39-cp39-macosx_11_0_arm64.whl.metadata (3.5 kB)\n",
            "Collecting appdirs>=1.4.4 (from yfinance)\n",
            "  Downloading appdirs-1.4.4-py2.py3-none-any.whl.metadata (9.0 kB)\n",
            "Requirement already satisfied: pytz>=2022.5 in /Users/ldvyyc/miniconda3/envs/tensorflow/lib/python3.9/site-packages (from yfinance) (2024.1)\n",
            "Collecting frozendict>=2.3.4 (from yfinance)\n",
            "  Downloading frozendict-2.4.0-cp39-cp39-macosx_11_0_arm64.whl.metadata (23 kB)\n",
            "Collecting peewee>=3.16.2 (from yfinance)\n",
            "  Downloading peewee-3.17.1.tar.gz (3.0 MB)\n",
            "\u001b[2K     \u001b[90m━━━━━━━━━━━━━━━━━━━━━━━━━━━━━━━━━━━━━━━━\u001b[0m \u001b[32m3.0/3.0 MB\u001b[0m \u001b[31m454.0 kB/s\u001b[0m eta \u001b[36m0:00:00\u001b[0ma \u001b[36m0:00:03\u001b[0m\n",
            "\u001b[?25h  Installing build dependencies ... \u001b[?25ldone\n",
            "\u001b[?25h  Getting requirements to build wheel ... \u001b[?25ldone\n",
            "\u001b[?25h  Preparing metadata (pyproject.toml) ... \u001b[?25ldone\n",
            "\u001b[?25hCollecting beautifulsoup4>=4.11.1 (from yfinance)\n",
            "  Downloading beautifulsoup4-4.12.3-py3-none-any.whl.metadata (3.8 kB)\n",
            "Collecting html5lib>=1.1 (from yfinance)\n",
            "  Downloading html5lib-1.1-py2.py3-none-any.whl.metadata (16 kB)\n",
            "Collecting soupsieve>1.2 (from beautifulsoup4>=4.11.1->yfinance)\n",
            "  Downloading soupsieve-2.5-py3-none-any.whl.metadata (4.7 kB)\n",
            "Requirement already satisfied: six>=1.9 in /Users/ldvyyc/miniconda3/envs/tensorflow/lib/python3.9/site-packages (from html5lib>=1.1->yfinance) (1.16.0)\n",
            "Collecting webencodings (from html5lib>=1.1->yfinance)\n",
            "  Downloading webencodings-0.5.1-py2.py3-none-any.whl.metadata (2.1 kB)\n",
            "Requirement already satisfied: python-dateutil>=2.8.2 in /Users/ldvyyc/miniconda3/envs/tensorflow/lib/python3.9/site-packages (from pandas>=1.3.0->yfinance) (2.9.0)\n",
            "Requirement already satisfied: tzdata>=2022.7 in /Users/ldvyyc/miniconda3/envs/tensorflow/lib/python3.9/site-packages (from pandas>=1.3.0->yfinance) (2024.1)\n",
            "Requirement already satisfied: charset-normalizer<4,>=2 in /Users/ldvyyc/miniconda3/envs/tensorflow/lib/python3.9/site-packages (from requests>=2.31->yfinance) (3.3.2)\n",
            "Requirement already satisfied: idna<4,>=2.5 in /Users/ldvyyc/miniconda3/envs/tensorflow/lib/python3.9/site-packages (from requests>=2.31->yfinance) (3.6)\n",
            "Requirement already satisfied: urllib3<3,>=1.21.1 in /Users/ldvyyc/miniconda3/envs/tensorflow/lib/python3.9/site-packages (from requests>=2.31->yfinance) (2.2.1)\n",
            "Requirement already satisfied: certifi>=2017.4.17 in /Users/ldvyyc/miniconda3/envs/tensorflow/lib/python3.9/site-packages (from requests>=2.31->yfinance) (2024.2.2)\n",
            "Downloading yfinance-0.2.37-py2.py3-none-any.whl (72 kB)\n",
            "\u001b[2K   \u001b[90m━━━━━━━━━━━━━━━━━━━━━━━━━━━━━━━━━━━━━━━━\u001b[0m \u001b[32m73.0/73.0 kB\u001b[0m \u001b[31m763.1 kB/s\u001b[0m eta \u001b[36m0:00:00\u001b[0ma \u001b[36m0:00:01\u001b[0m\n",
            "\u001b[?25hDownloading appdirs-1.4.4-py2.py3-none-any.whl (9.6 kB)\n",
            "Downloading beautifulsoup4-4.12.3-py3-none-any.whl (147 kB)\n",
            "\u001b[2K   \u001b[90m━━━━━━━━━━━━━━━━━━━━━━━━━━━━━━━━━━━━━━━━\u001b[0m \u001b[32m147.9/147.9 kB\u001b[0m \u001b[31m10.7 MB/s\u001b[0m eta \u001b[36m0:00:00\u001b[0m\n",
            "\u001b[?25hDownloading frozendict-2.4.0-cp39-cp39-macosx_11_0_arm64.whl (37 kB)\n",
            "Downloading html5lib-1.1-py2.py3-none-any.whl (112 kB)\n",
            "\u001b[2K   \u001b[90m━━━━━━━━━━━━━━━━━━━━━━━━━━━━━━━━━━━━━━━━\u001b[0m \u001b[32m112.2/112.2 kB\u001b[0m \u001b[31m1.0 MB/s\u001b[0m eta \u001b[36m0:00:00\u001b[0m \u001b[36m0:00:01\u001b[0m\n",
            "\u001b[?25hDownloading lxml-5.1.0-cp39-cp39-macosx_11_0_arm64.whl (4.5 MB)\n",
            "\u001b[2K   \u001b[90m━━━━━━━━━━━━━━━━━━━━━━━━━━━━━━━━━━━━━━━━\u001b[0m \u001b[32m4.5/4.5 MB\u001b[0m \u001b[31m636.8 kB/s\u001b[0m eta \u001b[36m0:00:00\u001b[0m00:01\u001b[0m00:01\u001b[0m\n",
            "\u001b[?25hDownloading multitasking-0.0.11-py3-none-any.whl (8.5 kB)\n",
            "Downloading soupsieve-2.5-py3-none-any.whl (36 kB)\n",
            "Downloading webencodings-0.5.1-py2.py3-none-any.whl (11 kB)\n",
            "Building wheels for collected packages: peewee\n",
            "  Building wheel for peewee (pyproject.toml) ... \u001b[?25ldone\n",
            "\u001b[?25h  Created wheel for peewee: filename=peewee-3.17.1-cp39-cp39-macosx_11_0_arm64.whl size=246327 sha256=1756945c2e5c64d8c48db50a76aef62cb98b94772e491489cbd19a2d00ed673d\n",
            "  Stored in directory: /Users/ldvyyc/Library/Caches/pip/wheels/77/ca/43/00120282a2aa9323dd8da301fb17ea79f84c35fc6faa9f94ea\n",
            "Successfully built peewee\n",
            "Installing collected packages: webencodings, peewee, multitasking, appdirs, soupsieve, lxml, html5lib, frozendict, beautifulsoup4, yfinance\n",
            "Successfully installed appdirs-1.4.4 beautifulsoup4-4.12.3 frozendict-2.4.0 html5lib-1.1 lxml-5.1.0 multitasking-0.0.11 peewee-3.17.1 soupsieve-2.5 webencodings-0.5.1 yfinance-0.2.37\n"
          ]
        }
      ],
      "source": [
        "!pip install yfinance"
      ]
    },
    {
      "cell_type": "code",
      "execution_count": 2,
      "metadata": {},
      "outputs": [
        {
          "name": "stdout",
          "output_type": "stream",
          "text": [
            "Collecting pandas_datareader\n",
            "  Downloading pandas_datareader-0.10.0-py3-none-any.whl.metadata (2.9 kB)\n",
            "Requirement already satisfied: lxml in /Users/ldvyyc/miniconda3/envs/tensorflow/lib/python3.9/site-packages (from pandas_datareader) (5.1.0)\n",
            "Requirement already satisfied: pandas>=0.23 in /Users/ldvyyc/miniconda3/envs/tensorflow/lib/python3.9/site-packages (from pandas_datareader) (2.2.1)\n",
            "Requirement already satisfied: requests>=2.19.0 in /Users/ldvyyc/miniconda3/envs/tensorflow/lib/python3.9/site-packages (from pandas_datareader) (2.31.0)\n",
            "Requirement already satisfied: numpy<2,>=1.22.4 in /Users/ldvyyc/miniconda3/envs/tensorflow/lib/python3.9/site-packages (from pandas>=0.23->pandas_datareader) (1.26.4)\n",
            "Requirement already satisfied: python-dateutil>=2.8.2 in /Users/ldvyyc/miniconda3/envs/tensorflow/lib/python3.9/site-packages (from pandas>=0.23->pandas_datareader) (2.9.0)\n",
            "Requirement already satisfied: pytz>=2020.1 in /Users/ldvyyc/miniconda3/envs/tensorflow/lib/python3.9/site-packages (from pandas>=0.23->pandas_datareader) (2024.1)\n",
            "Requirement already satisfied: tzdata>=2022.7 in /Users/ldvyyc/miniconda3/envs/tensorflow/lib/python3.9/site-packages (from pandas>=0.23->pandas_datareader) (2024.1)\n",
            "Requirement already satisfied: charset-normalizer<4,>=2 in /Users/ldvyyc/miniconda3/envs/tensorflow/lib/python3.9/site-packages (from requests>=2.19.0->pandas_datareader) (3.3.2)\n",
            "Requirement already satisfied: idna<4,>=2.5 in /Users/ldvyyc/miniconda3/envs/tensorflow/lib/python3.9/site-packages (from requests>=2.19.0->pandas_datareader) (3.6)\n",
            "Requirement already satisfied: urllib3<3,>=1.21.1 in /Users/ldvyyc/miniconda3/envs/tensorflow/lib/python3.9/site-packages (from requests>=2.19.0->pandas_datareader) (2.2.1)\n",
            "Requirement already satisfied: certifi>=2017.4.17 in /Users/ldvyyc/miniconda3/envs/tensorflow/lib/python3.9/site-packages (from requests>=2.19.0->pandas_datareader) (2024.2.2)\n",
            "Requirement already satisfied: six>=1.5 in /Users/ldvyyc/miniconda3/envs/tensorflow/lib/python3.9/site-packages (from python-dateutil>=2.8.2->pandas>=0.23->pandas_datareader) (1.16.0)\n",
            "Downloading pandas_datareader-0.10.0-py3-none-any.whl (109 kB)\n",
            "\u001b[2K   \u001b[90m━━━━━━━━━━━━━━━━━━━━━━━━━━━━━━━━━━━━━━━━\u001b[0m \u001b[32m109.5/109.5 kB\u001b[0m \u001b[31m84.7 kB/s\u001b[0m eta \u001b[36m0:00:00\u001b[0m \u001b[36m0:00:01\u001b[0m\n",
            "\u001b[?25hInstalling collected packages: pandas_datareader\n",
            "Successfully installed pandas_datareader-0.10.0\n"
          ]
        }
      ],
      "source": [
        "!pip install pandas_datareader"
      ]
    },
    {
      "cell_type": "code",
      "execution_count": 3,
      "metadata": {
        "id": "0MuwnzcT_AlN"
      },
      "outputs": [],
      "source": [
        "import pandas as pd\n",
        "import numpy as np\n",
        "import matplotlib.pyplot as plt\n",
        "import math\n",
        "import yfinance as yf\n",
        "import pandas_datareader as web\n",
        "from sklearn.preprocessing import MinMaxScaler\n",
        "from keras.models import Sequential\n",
        "from keras.layers import Dense, LSTM\n",
        "import matplotlib.pyplot as plt\n",
        "plt.style.use('fivethirtyeight')"
      ]
    },
    {
      "cell_type": "code",
      "execution_count": 4,
      "metadata": {
        "colab": {
          "base_uri": "https://localhost:8080/"
        },
        "id": "sHckAIBjAxze",
        "outputId": "e468cc94-c9c5-4114-830d-ec1a35f3c992"
      },
      "outputs": [
        {
          "name": "stderr",
          "output_type": "stream",
          "text": [
            "[*********************100%%**********************]  1 of 1 completed\n"
          ]
        }
      ],
      "source": [
        "# get the stock code\n",
        "# df = web.DataReader('AAPL', data_source='yahoo', start ='2012-01-01', end='2022-02-21')\n",
        "data = yf.download(\"SPY\", start = '2012-01-01' , end ='2022-05-21')"
      ]
    },
    {
      "cell_type": "code",
      "execution_count": 5,
      "metadata": {
        "colab": {
          "base_uri": "https://localhost:8080/",
          "height": 455
        },
        "id": "CYqbSXkSCj74",
        "outputId": "fd56a71f-c0d9-4dc4-c92a-8b0903ffac78"
      },
      "outputs": [
        {
          "data": {
            "text/html": [
              "<div>\n",
              "<style scoped>\n",
              "    .dataframe tbody tr th:only-of-type {\n",
              "        vertical-align: middle;\n",
              "    }\n",
              "\n",
              "    .dataframe tbody tr th {\n",
              "        vertical-align: top;\n",
              "    }\n",
              "\n",
              "    .dataframe thead th {\n",
              "        text-align: right;\n",
              "    }\n",
              "</style>\n",
              "<table border=\"1\" class=\"dataframe\">\n",
              "  <thead>\n",
              "    <tr style=\"text-align: right;\">\n",
              "      <th></th>\n",
              "      <th>Open</th>\n",
              "      <th>High</th>\n",
              "      <th>Low</th>\n",
              "      <th>Close</th>\n",
              "      <th>Adj Close</th>\n",
              "      <th>Volume</th>\n",
              "    </tr>\n",
              "    <tr>\n",
              "      <th>Date</th>\n",
              "      <th></th>\n",
              "      <th></th>\n",
              "      <th></th>\n",
              "      <th></th>\n",
              "      <th></th>\n",
              "      <th></th>\n",
              "    </tr>\n",
              "  </thead>\n",
              "  <tbody>\n",
              "    <tr>\n",
              "      <th>2012-01-03</th>\n",
              "      <td>127.760002</td>\n",
              "      <td>128.380005</td>\n",
              "      <td>127.430000</td>\n",
              "      <td>127.500000</td>\n",
              "      <td>101.729164</td>\n",
              "      <td>193697900</td>\n",
              "    </tr>\n",
              "    <tr>\n",
              "      <th>2012-01-04</th>\n",
              "      <td>127.199997</td>\n",
              "      <td>127.809998</td>\n",
              "      <td>126.709999</td>\n",
              "      <td>127.699997</td>\n",
              "      <td>101.888733</td>\n",
              "      <td>127186500</td>\n",
              "    </tr>\n",
              "    <tr>\n",
              "      <th>2012-01-05</th>\n",
              "      <td>127.010002</td>\n",
              "      <td>128.229996</td>\n",
              "      <td>126.430000</td>\n",
              "      <td>128.039993</td>\n",
              "      <td>102.160004</td>\n",
              "      <td>173895000</td>\n",
              "    </tr>\n",
              "    <tr>\n",
              "      <th>2012-01-06</th>\n",
              "      <td>128.199997</td>\n",
              "      <td>128.220001</td>\n",
              "      <td>127.290001</td>\n",
              "      <td>127.709999</td>\n",
              "      <td>101.896713</td>\n",
              "      <td>148050000</td>\n",
              "    </tr>\n",
              "    <tr>\n",
              "      <th>2012-01-09</th>\n",
              "      <td>128.000000</td>\n",
              "      <td>128.179993</td>\n",
              "      <td>127.410004</td>\n",
              "      <td>128.020004</td>\n",
              "      <td>102.144058</td>\n",
              "      <td>99530200</td>\n",
              "    </tr>\n",
              "    <tr>\n",
              "      <th>...</th>\n",
              "      <td>...</td>\n",
              "      <td>...</td>\n",
              "      <td>...</td>\n",
              "      <td>...</td>\n",
              "      <td>...</td>\n",
              "      <td>...</td>\n",
              "    </tr>\n",
              "    <tr>\n",
              "      <th>2022-05-16</th>\n",
              "      <td>399.980011</td>\n",
              "      <td>403.970001</td>\n",
              "      <td>397.600006</td>\n",
              "      <td>400.089996</td>\n",
              "      <td>387.808533</td>\n",
              "      <td>78622400</td>\n",
              "    </tr>\n",
              "    <tr>\n",
              "      <th>2022-05-17</th>\n",
              "      <td>406.529999</td>\n",
              "      <td>408.570007</td>\n",
              "      <td>402.579987</td>\n",
              "      <td>408.320007</td>\n",
              "      <td>395.785889</td>\n",
              "      <td>83029700</td>\n",
              "    </tr>\n",
              "    <tr>\n",
              "      <th>2022-05-18</th>\n",
              "      <td>403.500000</td>\n",
              "      <td>403.799988</td>\n",
              "      <td>390.549988</td>\n",
              "      <td>391.859985</td>\n",
              "      <td>379.831146</td>\n",
              "      <td>117674500</td>\n",
              "    </tr>\n",
              "    <tr>\n",
              "      <th>2022-05-19</th>\n",
              "      <td>388.619995</td>\n",
              "      <td>394.140015</td>\n",
              "      <td>387.109985</td>\n",
              "      <td>389.459991</td>\n",
              "      <td>377.504761</td>\n",
              "      <td>98510700</td>\n",
              "    </tr>\n",
              "    <tr>\n",
              "      <th>2022-05-20</th>\n",
              "      <td>393.250000</td>\n",
              "      <td>397.029999</td>\n",
              "      <td>380.540009</td>\n",
              "      <td>389.630005</td>\n",
              "      <td>377.669586</td>\n",
              "      <td>131432200</td>\n",
              "    </tr>\n",
              "  </tbody>\n",
              "</table>\n",
              "<p>2614 rows × 6 columns</p>\n",
              "</div>"
            ],
            "text/plain": [
              "                  Open        High         Low       Close   Adj Close  \\\n",
              "Date                                                                     \n",
              "2012-01-03  127.760002  128.380005  127.430000  127.500000  101.729164   \n",
              "2012-01-04  127.199997  127.809998  126.709999  127.699997  101.888733   \n",
              "2012-01-05  127.010002  128.229996  126.430000  128.039993  102.160004   \n",
              "2012-01-06  128.199997  128.220001  127.290001  127.709999  101.896713   \n",
              "2012-01-09  128.000000  128.179993  127.410004  128.020004  102.144058   \n",
              "...                ...         ...         ...         ...         ...   \n",
              "2022-05-16  399.980011  403.970001  397.600006  400.089996  387.808533   \n",
              "2022-05-17  406.529999  408.570007  402.579987  408.320007  395.785889   \n",
              "2022-05-18  403.500000  403.799988  390.549988  391.859985  379.831146   \n",
              "2022-05-19  388.619995  394.140015  387.109985  389.459991  377.504761   \n",
              "2022-05-20  393.250000  397.029999  380.540009  389.630005  377.669586   \n",
              "\n",
              "               Volume  \n",
              "Date                   \n",
              "2012-01-03  193697900  \n",
              "2012-01-04  127186500  \n",
              "2012-01-05  173895000  \n",
              "2012-01-06  148050000  \n",
              "2012-01-09   99530200  \n",
              "...               ...  \n",
              "2022-05-16   78622400  \n",
              "2022-05-17   83029700  \n",
              "2022-05-18  117674500  \n",
              "2022-05-19   98510700  \n",
              "2022-05-20  131432200  \n",
              "\n",
              "[2614 rows x 6 columns]"
            ]
          },
          "execution_count": 5,
          "metadata": {},
          "output_type": "execute_result"
        }
      ],
      "source": [
        "df = data.sort_values('Date')\n",
        "df"
      ]
    },
    {
      "cell_type": "code",
      "execution_count": 6,
      "metadata": {
        "colab": {
          "base_uri": "https://localhost:8080/"
        },
        "id": "YVGKTCI2CwPu",
        "outputId": "e0e9cfc2-c23e-49da-9502-f9fcaf313754"
      },
      "outputs": [
        {
          "data": {
            "text/plain": [
              "(2614, 6)"
            ]
          },
          "execution_count": 6,
          "metadata": {},
          "output_type": "execute_result"
        }
      ],
      "source": [
        "# Get the shape\n",
        "df.shape"
      ]
    },
    {
      "cell_type": "markdown",
      "metadata": {
        "id": "3F36n70ZhESl"
      },
      "source": []
    },
    {
      "cell_type": "code",
      "execution_count": 7,
      "metadata": {
        "colab": {
          "base_uri": "https://localhost:8080/",
          "height": 344
        },
        "id": "G8X3rOZSDER6",
        "outputId": "21fb9c97-cdf2-46ef-af82-72aa7656cc9c"
      },
      "outputs": [
        {
          "data": {
            "image/png": "[encoded data removed]",
            "text/plain": [
              "<Figure size 1400x600 with 1 Axes>"
            ]
          },
          "metadata": {},
          "output_type": "display_data"
        }
      ],
      "source": [
        "# Visualise the closing price history\n",
        "plt.figure(figsize=(14,6))\n",
        "plt.title('Close Price History')\n",
        "plt.plot(df['Close'])\n",
        "plt.xlabel('Date', fontsize=16)\n",
        "plt.ylabel('Close Price USD ($)', fontsize =16)\n",
        "plt.show()"
      ]
    },
    {
      "cell_type": "code",
      "execution_count": 8,
      "metadata": {
        "colab": {
          "base_uri": "https://localhost:8080/"
        },
        "id": "cRQSoTarDwJI",
        "outputId": "fa36849c-c445-41b1-f8b4-ddf22d11a6cb"
      },
      "outputs": [
        {
          "data": {
            "text/plain": [
              "2092"
            ]
          },
          "execution_count": 8,
          "metadata": {},
          "output_type": "execute_result"
        }
      ],
      "source": [
        "# create a new df with only close column \n",
        "data = df.filter(['Close'])\n",
        "# convert the df to a numpy array\n",
        "dataset = data.values\n",
        "# get the no. of rows to train the model on\n",
        "training_data_len = math.ceil(len(dataset)* .8)\n",
        "\n",
        "training_data_len"
      ]
    },
    {
      "cell_type": "code",
      "execution_count": 9,
      "metadata": {
        "colab": {
          "base_uri": "https://localhost:8080/"
        },
        "id": "ai7fnQ-uE0kQ",
        "outputId": "03da83e7-46ef-4175-a41d-91885c3797e9"
      },
      "outputs": [
        {
          "data": {
            "text/plain": [
              "array([[0.00000000e+00],\n",
              "       [5.71077220e-04],\n",
              "       [1.54191285e-03],\n",
              "       ...,\n",
              "       [7.54861345e-01],\n",
              "       [7.48008332e-01],\n",
              "       [7.48493793e-01]])"
            ]
          },
          "execution_count": 9,
          "metadata": {},
          "output_type": "execute_result"
        }
      ],
      "source": [
        "# scale the data - preprocessing\n",
        "scaler = MinMaxScaler(feature_range=(0,1))  # 0-1inclusive\n",
        "scaled_Data = scaler.fit_transform(dataset)\n",
        "\n",
        "scaled_Data"
      ]
    },
    {
      "cell_type": "code",
      "execution_count": 10,
      "metadata": {
        "colab": {
          "base_uri": "https://localhost:8080/"
        },
        "id": "tHJqtQqQFVMK",
        "outputId": "64a3abe2-fd9f-4046-e209-4707180530c1"
      },
      "outputs": [
        {
          "name": "stdout",
          "output_type": "stream",
          "text": [
            "[[0.        ]\n",
            " [0.00057108]\n",
            " [0.00154191]\n",
            " ...\n",
            " [0.43282599]\n",
            " [0.44393365]\n",
            " [0.45558377]]\n",
            "[array([0.        , 0.00057108, 0.00154191, 0.00059964, 0.00148484,\n",
            "       0.00465436, 0.00485422, 0.0057394 , 0.00382627, 0.00525398,\n",
            "       0.00933727, 0.01130752, 0.01270665, 0.01173582, 0.01130752,\n",
            "       0.01444847, 0.0125068 , 0.01233548, 0.0110505 , 0.01090776,\n",
            "       0.01419149, 0.0147911 , 0.02010221, 0.01984523, 0.02081606,\n",
            "       0.02195826, 0.02244368, 0.01958825, 0.02244368, 0.02195826,\n",
            "       0.02015933, 0.02441393, 0.02544189, 0.02561321, 0.02435681,\n",
            "       0.02607009, 0.02692668, 0.02758346, 0.02872562, 0.0271837 ,\n",
            "       0.02921103, 0.02801176, 0.02641272, 0.02070187, 0.02338598,\n",
            "       0.02724078, 0.0287542 , 0.02878274, 0.03586419, 0.03543589,\n",
            "       0.03774878, 0.03654951, 0.03812   , 0.03694927, 0.03629253,\n",
            "       0.03340852, 0.03469345, 0.04029011, 0.03903372, 0.03703493])]\n",
            "[0.0363496074873465]\n",
            "\n",
            "[array([0.        , 0.00057108, 0.00154191, 0.00059964, 0.00148484,\n",
            "       0.00465436, 0.00485422, 0.0057394 , 0.00382627, 0.00525398,\n",
            "       0.00933727, 0.01130752, 0.01270665, 0.01173582, 0.01130752,\n",
            "       0.01444847, 0.0125068 , 0.01233548, 0.0110505 , 0.01090776,\n",
            "       0.01419149, 0.0147911 , 0.02010221, 0.01984523, 0.02081606,\n",
            "       0.02195826, 0.02244368, 0.01958825, 0.02244368, 0.02195826,\n",
            "       0.02015933, 0.02441393, 0.02544189, 0.02561321, 0.02435681,\n",
            "       0.02607009, 0.02692668, 0.02758346, 0.02872562, 0.0271837 ,\n",
            "       0.02921103, 0.02801176, 0.02641272, 0.02070187, 0.02338598,\n",
            "       0.02724078, 0.0287542 , 0.02878274, 0.03586419, 0.03543589,\n",
            "       0.03774878, 0.03654951, 0.03812   , 0.03694927, 0.03629253,\n",
            "       0.03340852, 0.03469345, 0.04029011, 0.03903372, 0.03703493]), array([0.00057108, 0.00154191, 0.00059964, 0.00148484, 0.00465436,\n",
            "       0.00485422, 0.0057394 , 0.00382627, 0.00525398, 0.00933727,\n",
            "       0.01130752, 0.01270665, 0.01173582, 0.01130752, 0.01444847,\n",
            "       0.0125068 , 0.01233548, 0.0110505 , 0.01090776, 0.01419149,\n",
            "       0.0147911 , 0.02010221, 0.01984523, 0.02081606, 0.02195826,\n",
            "       0.02244368, 0.01958825, 0.02244368, 0.02195826, 0.02015933,\n",
            "       0.02441393, 0.02544189, 0.02561321, 0.02435681, 0.02607009,\n",
            "       0.02692668, 0.02758346, 0.02872562, 0.0271837 , 0.02921103,\n",
            "       0.02801176, 0.02641272, 0.02070187, 0.02338598, 0.02724078,\n",
            "       0.0287542 , 0.02878274, 0.03586419, 0.03543589, 0.03774878,\n",
            "       0.03654951, 0.03812   , 0.03694927, 0.03629253, 0.03340852,\n",
            "       0.03469345, 0.04029011, 0.03903372, 0.03703493, 0.03634961])]\n",
            "[0.0363496074873465, 0.03800576192384575]\n",
            "\n"
          ]
        }
      ],
      "source": [
        "# CReate the training dataset - create the scaled dataset\n",
        "\n",
        "train_data = scaled_Data[0:training_data_len, :]\n",
        "print(train_data)\n",
        "# split the data into x_train and y_train datasets\n",
        "x_train =[]\n",
        "y_train = []\n",
        "\n",
        "for i in range(60, len(train_data)):\n",
        "  x_train.append(train_data[i-60:i,0])\n",
        "  y_train.append(train_data[i, 0])\n",
        "  if i<= 61:\n",
        "    print(x_train)\n",
        "    print(y_train)\n",
        "    print()"
      ]
    },
    {
      "cell_type": "code",
      "execution_count": 11,
      "metadata": {
        "id": "-jD5UJUBHbAD"
      },
      "outputs": [],
      "source": [
        "# convert the x_train and y_train to numpy array\n",
        "x_train , y_train = np.array(x_train), np.array(y_train)"
      ]
    },
    {
      "cell_type": "code",
      "execution_count": 12,
      "metadata": {
        "colab": {
          "base_uri": "https://localhost:8080/"
        },
        "id": "BcuQ-zMnH-oa",
        "outputId": "24917f6d-e26a-4e3f-ac52-8200a9dae59d"
      },
      "outputs": [
        {
          "data": {
            "text/plain": [
              "(2032, 60, 1)"
            ]
          },
          "execution_count": 12,
          "metadata": {},
          "output_type": "execute_result"
        }
      ],
      "source": [
        "# Reshape the data\n",
        "x_train = np.reshape(x_train, (x_train.shape[0], x_train.shape[1], 1 ))\n",
        "x_train.shape"
      ]
    },
    {
      "cell_type": "markdown",
      "metadata": {
        "id": "o0gFE_UWAzix"
      },
      "source": [
        "- Build the LSTM model"
      ]
    },
    {
      "cell_type": "code",
      "execution_count": 13,
      "metadata": {
        "id": "tMV7qfOakbyr"
      },
      "outputs": [
        {
          "name": "stderr",
          "output_type": "stream",
          "text": [
            "/Users/ldvyyc/miniconda3/envs/tensorflow/lib/python3.9/site-packages/keras/src/layers/rnn/rnn.py:205: UserWarning: Do not pass an `input_shape`/`input_dim` argument to a layer. When using Sequential models, prefer using an `Input(shape)` object as the first layer in the model instead.\n",
            "  super().__init__(**kwargs)\n"
          ]
        }
      ],
      "source": [
        "# lstm build \n",
        "model = Sequential()\n",
        "model.add(LSTM(50, return_sequences =True, input_shape= (x_train.shape[1], 1)))\n",
        "model.add(LSTM(50, return_sequences =False))\n",
        "model.add(Dense(25))\n",
        "model.add(Dense(1))"
      ]
    },
    {
      "cell_type": "code",
      "execution_count": 14,
      "metadata": {
        "colab": {
          "base_uri": "https://localhost:8080/"
        },
        "id": "FHQ60gvslGT_",
        "outputId": "6dd60183-15d5-4ae4-950a-d60a67bf1462"
      },
      "outputs": [
        {
          "name": "stdout",
          "output_type": "stream",
          "text": [
            "\u001b[1m2032/2032\u001b[0m \u001b[32m━━━━━━━━━━━━━━━━━━━━\u001b[0m\u001b[37m\u001b[0m \u001b[1m17s\u001b[0m 8ms/step - loss: 0.0021\n"
          ]
        },
        {
          "data": {
            "text/plain": [
              "<keras.src.callbacks.history.History at 0x2aee10a00>"
            ]
          },
          "execution_count": 14,
          "metadata": {},
          "output_type": "execute_result"
        }
      ],
      "source": [
        "# compile the model\n",
        "model.compile(optimizer='adam', loss='mean_squared_error')\n",
        "\n",
        "# train the model\n",
        "model.fit(x_train, y_train , batch_size = 1, epochs = 1)"
      ]
    },
    {
      "cell_type": "code",
      "execution_count": 15,
      "metadata": {
        "id": "gcfNEWF1l7BX"
      },
      "outputs": [],
      "source": [
        "# create testing dataset  - a new arrray = contaiing scaled values from index to \n",
        "test_data = scaled_Data[training_data_len - 60: , :] \n",
        "\n",
        "# create datasets x_test & y_test\n",
        "x_test =[]\n",
        "y_test = dataset[training_data_len:,:]\n",
        "for i in range (60, len(test_data)):\n",
        "  x_test.append(test_data[i-60:i, 0])\n"
      ]
    },
    {
      "cell_type": "code",
      "execution_count": 16,
      "metadata": {
        "id": "x2tMh2AVlYa2"
      },
      "outputs": [],
      "source": [
        "# convert the data to a numpy array to use in lstm modell\n",
        "x_test = np.array(x_test)\n",
        "# reshape the data - lstm expecting a 3d shape\n",
        "x_test = np.reshape(x_test, (x_test.shape[0], x_test.shape[1], 1 ))"
      ]
    },
    {
      "cell_type": "code",
      "execution_count": 17,
      "metadata": {
        "id": "js6YsT8DpMw5"
      },
      "outputs": [
        {
          "name": "stdout",
          "output_type": "stream",
          "text": [
            "\u001b[1m17/17\u001b[0m \u001b[32m━━━━━━━━━━━━━━━━━━━━\u001b[0m\u001b[37m\u001b[0m \u001b[1m0s\u001b[0m 12ms/step\n"
          ]
        }
      ],
      "source": [
        "# get the models predicted price values\n",
        "predictions = model.predict(x_test)\n",
        "predictions = scaler.inverse_transform(predictions)"
      ]
    },
    {
      "cell_type": "code",
      "execution_count": 18,
      "metadata": {
        "colab": {
          "base_uri": "https://localhost:8080/"
        },
        "id": "-3Bibx7xppIg",
        "outputId": "7603b1de-3cc5-4c92-eb20-a0a4568172f8"
      },
      "outputs": [
        {
          "data": {
            "text/plain": [
              "58.16921149359809"
            ]
          },
          "execution_count": 18,
          "metadata": {},
          "output_type": "execute_result"
        }
      ],
      "source": [
        "# get the root mean square error (RMSE) \n",
        "rmse = np.sqrt( np.mean(predictions - y_test)**2)\n",
        "rmse"
      ]
    },
    {
      "cell_type": "code",
      "execution_count": 19,
      "metadata": {
        "colab": {
          "base_uri": "https://localhost:8080/",
          "height": 518
        },
        "id": "40OnQIShqJ_8",
        "outputId": "57ffb4b5-e001-44bc-d80a-e63d39767752"
      },
      "outputs": [
        {
          "name": "stderr",
          "output_type": "stream",
          "text": [
            "/var/folders/bw/b76wldrx3mz1kk0lzd4cfrmc0000gn/T/ipykernel_54333/3550402722.py:4: SettingWithCopyWarning: \n",
            "A value is trying to be set on a copy of a slice from a DataFrame.\n",
            "Try using .loc[row_indexer,col_indexer] = value instead\n",
            "\n",
            "See the caveats in the documentation: https://pandas.pydata.org/pandas-docs/stable/user_guide/indexing.html#returning-a-view-versus-a-copy\n",
            "  valid['Predictions'] = predictions\n"
          ]
        },
        {
          "data": {
            "image/png": "[encoded data removed]",
            "text/plain": [
              "<Figure size 1200x600 with 1 Axes>"
            ]
          },
          "metadata": {},
          "output_type": "display_data"
        }
      ],
      "source": [
        "# plot the data \n",
        "train = data[: training_data_len]\n",
        "valid = data[training_data_len:]\n",
        "valid['Predictions'] = predictions\n",
        "plt.figure(figsize =(12,6))\n",
        "plt.title('Model')\n",
        "plt.xlabel('Date', fontsize =16)\n",
        "plt.ylabel('Close Price USD ($)', fontsize = 16)\n",
        "plt.plot(train['Close'])\n",
        "plt.plot(valid[['Close','Predictions']])\n",
        "plt.legend(['Train','Val', 'Predictions'], loc = 'lower right')\n",
        "plt.show()\n"
      ]
    },
    {
      "cell_type": "code",
      "execution_count": 20,
      "metadata": {
        "colab": {
          "base_uri": "https://localhost:8080/",
          "height": 455
        },
        "id": "8h-xrS23sGxh",
        "outputId": "1f841b6d-a8c5-4541-9417-820b6fbe5453"
      },
      "outputs": [
        {
          "data": {
            "text/html": [
              "<div>\n",
              "<style scoped>\n",
              "    .dataframe tbody tr th:only-of-type {\n",
              "        vertical-align: middle;\n",
              "    }\n",
              "\n",
              "    .dataframe tbody tr th {\n",
              "        vertical-align: top;\n",
              "    }\n",
              "\n",
              "    .dataframe thead th {\n",
              "        text-align: right;\n",
              "    }\n",
              "</style>\n",
              "<table border=\"1\" class=\"dataframe\">\n",
              "  <thead>\n",
              "    <tr style=\"text-align: right;\">\n",
              "      <th></th>\n",
              "      <th>Close</th>\n",
              "      <th>Predictions</th>\n",
              "    </tr>\n",
              "    <tr>\n",
              "      <th>Date</th>\n",
              "      <th></th>\n",
              "      <th></th>\n",
              "    </tr>\n",
              "  </thead>\n",
              "  <tbody>\n",
              "    <tr>\n",
              "      <th>2020-04-28</th>\n",
              "      <td>285.730011</td>\n",
              "      <td>254.993454</td>\n",
              "    </tr>\n",
              "    <tr>\n",
              "      <th>2020-04-29</th>\n",
              "      <td>293.209991</td>\n",
              "      <td>255.897049</td>\n",
              "    </tr>\n",
              "    <tr>\n",
              "      <th>2020-04-30</th>\n",
              "      <td>290.480011</td>\n",
              "      <td>257.439423</td>\n",
              "    </tr>\n",
              "    <tr>\n",
              "      <th>2020-05-01</th>\n",
              "      <td>282.790009</td>\n",
              "      <td>258.784760</td>\n",
              "    </tr>\n",
              "    <tr>\n",
              "      <th>2020-05-04</th>\n",
              "      <td>283.570007</td>\n",
              "      <td>259.101379</td>\n",
              "    </tr>\n",
              "    <tr>\n",
              "      <th>...</th>\n",
              "      <td>...</td>\n",
              "      <td>...</td>\n",
              "    </tr>\n",
              "    <tr>\n",
              "      <th>2022-05-16</th>\n",
              "      <td>400.089996</td>\n",
              "      <td>342.846985</td>\n",
              "    </tr>\n",
              "    <tr>\n",
              "      <th>2022-05-17</th>\n",
              "      <td>408.320007</td>\n",
              "      <td>342.211945</td>\n",
              "    </tr>\n",
              "    <tr>\n",
              "      <th>2022-05-18</th>\n",
              "      <td>391.859985</td>\n",
              "      <td>342.815613</td>\n",
              "    </tr>\n",
              "    <tr>\n",
              "      <th>2022-05-19</th>\n",
              "      <td>389.459991</td>\n",
              "      <td>342.139435</td>\n",
              "    </tr>\n",
              "    <tr>\n",
              "      <th>2022-05-20</th>\n",
              "      <td>389.630005</td>\n",
              "      <td>340.824341</td>\n",
              "    </tr>\n",
              "  </tbody>\n",
              "</table>\n",
              "<p>522 rows × 2 columns</p>\n",
              "</div>"
            ],
            "text/plain": [
              "                 Close  Predictions\n",
              "Date                               \n",
              "2020-04-28  285.730011   254.993454\n",
              "2020-04-29  293.209991   255.897049\n",
              "2020-04-30  290.480011   257.439423\n",
              "2020-05-01  282.790009   258.784760\n",
              "2020-05-04  283.570007   259.101379\n",
              "...                ...          ...\n",
              "2022-05-16  400.089996   342.846985\n",
              "2022-05-17  408.320007   342.211945\n",
              "2022-05-18  391.859985   342.815613\n",
              "2022-05-19  389.459991   342.139435\n",
              "2022-05-20  389.630005   340.824341\n",
              "\n",
              "[522 rows x 2 columns]"
            ]
          },
          "execution_count": 20,
          "metadata": {},
          "output_type": "execute_result"
        }
      ],
      "source": [
        "# show actual & predicted\n",
        "valid"
      ]
    },
    {
      "cell_type": "code",
      "execution_count": null,
      "metadata": {
        "colab": {
          "base_uri": "https://localhost:8080/"
        },
        "id": "C2QhY4f2-Mep",
        "outputId": "35ae9d8d-8500-49a7-b32f-81e0952d40b2"
      },
      "outputs": [
        {
          "data": {
            "text/plain": [
              "389.4599914550781"
            ]
          },
          "execution_count": 66,
          "metadata": {},
          "output_type": "execute_result"
        }
      ],
      "source": [
        "valid.loc['2022-05-19'].at['Close']"
      ]
    },
    {
      "cell_type": "code",
      "execution_count": null,
      "metadata": {
        "id": "Y-9U-XF_GStX"
      },
      "outputs": [],
      "source": []
    },
    {
      "cell_type": "code",
      "execution_count": null,
      "metadata": {
        "colab": {
          "base_uri": "https://localhost:8080/"
        },
        "id": "mJYOv75bsZNR",
        "outputId": "a15b9b7c-874b-461c-a414-2cead2dce6ed"
      },
      "outputs": [
        {
          "name": "stdout",
          "output_type": "stream",
          "text": [
            "\r[*********************100%***********************]  1 of 1 completed\n",
            "[[395.77255]]\n"
          ]
        }
      ],
      "source": [
        "# Get the quote\n",
        "spy_quote = yf.download(\"SPY\", start = '2012-01-01' , end ='2022-05-16')\n",
        "new_df = spy_quote.filter(['Close'])\n",
        "last_60_days = new_df[-60:].values\n",
        "last_60_days_scaled = scaler.transform(last_60_days)\n",
        "X_test=[]\n",
        "X_test.append(last_60_days_scaled)\n",
        "X_test = np.array(X_test)\n",
        "X_test = np.reshape(X_test, (X_test.shape[0], X_test.shape[1], 1))\n",
        "pred_price = model.predict(X_test)\n",
        "pred_price = scaler.inverse_transform(pred_price)\n",
        "print(pred_price)"
      ]
    },
    {
      "cell_type": "code",
      "execution_count": null,
      "metadata": {
        "colab": {
          "base_uri": "https://localhost:8080/"
        },
        "id": "0WmNxJqGvayz",
        "outputId": "f0596ebd-35de-4c73-97b6-b983d6bb875a"
      },
      "outputs": [
        {
          "name": "stdout",
          "output_type": "stream",
          "text": [
            "\r[*********************100%***********************]  1 of 1 completed\n",
            "Date\n",
            "2022-05-17    408.320007\n",
            "Name: Close, dtype: float64\n"
          ]
        }
      ],
      "source": [
        "spy_quote_orig = yf.download(\"SPY\", start = '2022-05-17' , end ='2022-05-18')\n",
        "print(spy_quote_orig['Close'])"
      ]
    },
    {
      "cell_type": "code",
      "execution_count": null,
      "metadata": {
        "colab": {
          "base_uri": "https://localhost:8080/"
        },
        "id": "M3TusqWW1FAq",
        "outputId": "6f2efccf-ed2a-4531-a725-e17853668329"
      },
      "outputs": [
        {
          "name": "stdout",
          "output_type": "stream",
          "text": [
            "\r[*********************100%***********************]  1 of 1 completed\n"
          ]
        },
        {
          "data": {
            "text/plain": [
              "Date\n",
              "2022-05-17    408.320007\n",
              "Name: Close, dtype: float64"
            ]
          },
          "execution_count": 57,
          "metadata": {},
          "output_type": "execute_result"
        }
      ],
      "source": [
        "tickers = [\"SPY\"] #Subtitute for the tickers you want\n",
        "df =yf.download(tickers,  start = \"2022-05-17\" , end = \"2022-05-18\")\n",
        "df.Close"
      ]
    },
    {
      "cell_type": "code",
      "execution_count": null,
      "metadata": {
        "colab": {
          "base_uri": "https://localhost:8080/"
        },
        "id": "U4CDPUsEqN-l",
        "outputId": "3cb20e89-95d2-4865-eac0-06ae72fa54d4"
      },
      "outputs": [
        {
          "data": {
            "text/plain": [
              "array([[12.547455]], dtype=float32)"
            ]
          },
          "execution_count": 78,
          "metadata": {},
          "output_type": "execute_result"
        }
      ],
      "source": [
        "error = ((df.loc[\"2022-05-17\"].Close) - pred_price)\n",
        "error"
      ]
    },
    {
      "cell_type": "markdown",
      "metadata": {
        "id": "HaFFkHbcrAxN"
      },
      "source": [
        "Algorithm:\n",
        "- scrap data with date and time\n",
        "- preprocessing : check the updated preprocessing of HMM LSTM\n",
        "- add columns of up , down, flat - numeric values\n",
        "- divide into training and test sets\n",
        "- train algorithm \n",
        "- prediction and actual column\n",
        "- calculate accuracy : if prediction == acuuracy then (true prediction/ all predictions) \n",
        "- make a table with columns : Date, time, trend, trend value, accuracy \n",
        "- to get trend value of a particular date and time, extract it from the table of prediction and actual column   \n",
        "or extract it from the first scraped data table"
      ]
    },
    {
      "cell_type": "code",
      "execution_count": null,
      "metadata": {
        "id": "5sqVtJDVsJil"
      },
      "outputs": [],
      "source": []
    }
  ],
  "metadata": {
    "colab": {
      "collapsed_sections": [],
      "name": "Stock_Trend_Close_ANN_LSTM.ipynb",
      "provenance": []
    },
    "kernelspec": {
      "display_name": "Python 3",
      "name": "python3"
    },
    "language_info": {
      "codemirror_mode": {
        "name": "ipython",
        "version": 3
      },
      "file_extension": ".py",
      "mimetype": "text/x-python",
      "name": "python",
      "nbconvert_exporter": "python",
      "pygments_lexer": "ipython3",
      "version": "3.9.18"
    }
  },
  "nbformat": 4,
  "nbformat_minor": 0
}
